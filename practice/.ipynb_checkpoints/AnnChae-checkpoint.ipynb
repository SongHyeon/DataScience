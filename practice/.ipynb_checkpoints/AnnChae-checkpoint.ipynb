{
 "cells": [
  {
   "cell_type": "code",
   "execution_count": 14,
   "metadata": {},
   "outputs": [],
   "source": [
    "import os\n",
    "from selenium import webdriver\n",
    "from tqdm import tqdm_notebook\n",
    "import pandas as pd\n",
    "import numpy as np\n",
    "import matplotlib.pyplot as plt\n",
    "import time"
   ]
  },
  {
   "cell_type": "code",
   "execution_count": 15,
   "metadata": {},
   "outputs": [],
   "source": [
    "# 크롬 웹 드라이버를 시작한다\n",
    "driver = webdriver.Chrome('../driver/chromedriver.exe')\n",
    "driver.get('http://www.gims.go.kr/assiObsvData.do?s_code=SU-SPA-G1-0007&s_name=%EC%A0%84%ED%8C%8C%EA%B4%80%EB%A6%AC%EC%86%8C&sDate=20190417&eDate=20190517&s_obsv=SU-SPA-G1-0007&s_sido=SU&s_sigungu=SU-SPA')\n"
   ]
  },
  {
   "cell_type": "code",
   "execution_count": 16,
   "metadata": {},
   "outputs": [],
   "source": [
    "# 시도 선택하는 option\n",
    "element = driver.find_element_by_id('s_sido')\n",
    "element = element.send_keys('서울특별시')"
   ]
  },
  {
   "cell_type": "code",
   "execution_count": 17,
   "metadata": {},
   "outputs": [],
   "source": [
    "# 시군구 선택하는 option\n",
    "element = driver.find_element_by_id('s_sigungu')\n",
    "element = element.send_keys('송파구')"
   ]
  },
  {
   "cell_type": "code",
   "execution_count": 18,
   "metadata": {},
   "outputs": [],
   "source": [
    "# 관측소명 선택하는 option\n",
    "s_code_raw = driver.find_element_by_id('s_code')\n",
    "s_code_raw = s_code_raw.find_elements_by_tag_name('option')\n",
    "s_code_list = [option.text for option in s_code_raw]"
   ]
  },
  {
   "cell_type": "code",
   "execution_count": 19,
   "metadata": {},
   "outputs": [
    {
     "data": {
      "text/plain": [
       "['전체',\n",
       " '창덕여고',\n",
       " '영동일고',\n",
       " '태양근린공원',\n",
       " '잠실고등학교',\n",
       " '문정래미안',\n",
       " '아이코리아',\n",
       " '전파관리소',\n",
       " '연화근린공원',\n",
       " '부리근린공원',\n",
       " '마천국민임대주택단지',\n",
       " '올림픽파크텔',\n",
       " '수연빌딩',\n",
       " '경찰병원',\n",
       " '송례중학교',\n",
       " '송파참노인전문병원']"
      ]
     },
     "execution_count": 19,
     "metadata": {},
     "output_type": "execute_result"
    }
   ],
   "source": [
    "s_code_list"
   ]
  },
  {
   "cell_type": "code",
   "execution_count": 20,
   "metadata": {},
   "outputs": [
    {
     "data": {
      "text/plain": [
       "['창덕여고',\n",
       " '영동일고',\n",
       " '태양근린공원',\n",
       " '잠실고등학교',\n",
       " '문정래미안',\n",
       " '아이코리아',\n",
       " '전파관리소',\n",
       " '연화근린공원',\n",
       " '부리근린공원',\n",
       " '마천국민임대주택단지',\n",
       " '올림픽파크텔',\n",
       " '수연빌딩',\n",
       " '경찰병원',\n",
       " '송례중학교',\n",
       " '송파참노인전문병원']"
      ]
     },
     "execution_count": 20,
     "metadata": {},
     "output_type": "execute_result"
    }
   ],
   "source": [
    "s_code_list.remove('전체')\n",
    "s_code_list"
   ]
  },
  {
   "cell_type": "code",
   "execution_count": 21,
   "metadata": {},
   "outputs": [
    {
     "data": {
      "text/plain": [
       "15"
      ]
     },
     "execution_count": 21,
     "metadata": {},
     "output_type": "execute_result"
    }
   ],
   "source": [
    "len(s_code_list)"
   ]
  },
  {
   "cell_type": "code",
   "execution_count": 22,
   "metadata": {},
   "outputs": [],
   "source": [
    "download_path = 'C:/Users/blaze/Downloads/'\n",
    "filename = '관측자료.xls'"
   ]
  },
  {
   "cell_type": "code",
   "execution_count": 23,
   "metadata": {},
   "outputs": [
    {
     "data": {
      "application/vnd.jupyter.widget-view+json": {
       "model_id": "f32f978a8fe14cf6ad5d1cc89268835f",
       "version_major": 2,
       "version_minor": 0
      },
      "text/plain": [
       "HBox(children=(IntProgress(value=0, description='전체', max=15, style=ProgressStyle(description_width='initial')…"
      ]
     },
     "metadata": {},
     "output_type": "display_data"
    },
    {
     "data": {
      "application/vnd.jupyter.widget-view+json": {
       "model_id": "efc56da75dc5496491f95f1b9eba135f",
       "version_major": 2,
       "version_minor": 0
      },
      "text/plain": [
       "HBox(children=(IntProgress(value=0, description='창덕여고_2017', style=ProgressStyle(description_width='initial'))…"
      ]
     },
     "metadata": {},
     "output_type": "display_data"
    },
    {
     "name": "stdout",
     "output_type": "stream",
     "text": [
      "\n"
     ]
    },
    {
     "ename": "KeyboardInterrupt",
     "evalue": "",
     "output_type": "error",
     "traceback": [
      "\u001b[1;31m---------------------------------------------------------------------------\u001b[0m",
      "\u001b[1;31mKeyboardInterrupt\u001b[0m                         Traceback (most recent call last)",
      "\u001b[1;32m<ipython-input-23-58ec3c459fc1>\u001b[0m in \u001b[0;36m<module>\u001b[1;34m\u001b[0m\n\u001b[0;32m     14\u001b[0m         \u001b[0mdriver\u001b[0m\u001b[1;33m.\u001b[0m\u001b[0mfind_element_by_xpath\u001b[0m\u001b[1;33m(\u001b[0m\u001b[1;34m'//*[@id=\"frmSearch\"]/div/div[1]/div/a'\u001b[0m\u001b[1;33m)\u001b[0m\u001b[1;33m.\u001b[0m\u001b[0mclick\u001b[0m\u001b[1;33m(\u001b[0m\u001b[1;33m)\u001b[0m\u001b[1;33m\u001b[0m\u001b[1;33m\u001b[0m\u001b[0m\n\u001b[0;32m     15\u001b[0m         \u001b[1;32mfor\u001b[0m \u001b[0m_\u001b[0m \u001b[1;32min\u001b[0m \u001b[0mtqdm_notebook\u001b[0m\u001b[1;33m(\u001b[0m\u001b[0mrange\u001b[0m\u001b[1;33m(\u001b[0m\u001b[1;36m100\u001b[0m\u001b[1;33m)\u001b[0m\u001b[1;33m,\u001b[0m \u001b[0mdesc\u001b[0m\u001b[1;33m=\u001b[0m\u001b[0ms_code\u001b[0m\u001b[1;33m+\u001b[0m\u001b[1;34m'_'\u001b[0m\u001b[1;33m+\u001b[0m\u001b[0myear\u001b[0m\u001b[1;33m)\u001b[0m\u001b[1;33m:\u001b[0m \u001b[1;31m# 조회 완료를 기다림\u001b[0m\u001b[1;33m\u001b[0m\u001b[1;33m\u001b[0m\u001b[0m\n\u001b[1;32m---> 16\u001b[1;33m             \u001b[0mtime\u001b[0m\u001b[1;33m.\u001b[0m\u001b[0msleep\u001b[0m\u001b[1;33m(\u001b[0m\u001b[1;36m0.1\u001b[0m\u001b[1;33m)\u001b[0m\u001b[1;33m\u001b[0m\u001b[1;33m\u001b[0m\u001b[0m\n\u001b[0m\u001b[0;32m     17\u001b[0m         \u001b[1;31m# 다운 버튼 클릭\u001b[0m\u001b[1;33m\u001b[0m\u001b[1;33m\u001b[0m\u001b[1;33m\u001b[0m\u001b[0m\n\u001b[0;32m     18\u001b[0m         \u001b[0mdriver\u001b[0m\u001b[1;33m.\u001b[0m\u001b[0mfind_element_by_xpath\u001b[0m\u001b[1;33m(\u001b[0m\u001b[1;34m'//*[@id=\"frmSearch\"]/div/div[2]/div/a'\u001b[0m\u001b[1;33m)\u001b[0m\u001b[1;33m.\u001b[0m\u001b[0mclick\u001b[0m\u001b[1;33m(\u001b[0m\u001b[1;33m)\u001b[0m\u001b[1;33m\u001b[0m\u001b[1;33m\u001b[0m\u001b[0m\n",
      "\u001b[1;31mKeyboardInterrupt\u001b[0m: "
     ]
    }
   ],
   "source": [
    "for s_code in tqdm_notebook(s_code_list, desc='전체'):\n",
    "    # 다음 관측소 설정\n",
    "    driver.find_element_by_id('s_code').send_keys(s_code)\n",
    "    # 1년씩 끊어서 다운로드 가능\n",
    "    for year in range(2017,2019):\n",
    "        year = str(year)\n",
    "        element = driver.find_element_by_id('fromDt')\n",
    "        element.clear()\n",
    "        element = element.send_keys(year+'0101')\n",
    "        element = driver.find_element_by_id('toDt')\n",
    "        element.clear()\n",
    "        element = element.send_keys(year+'1231')\n",
    "        # 조회 버튼 클릭\n",
    "        driver.find_element_by_xpath('//*[@id=\"frmSearch\"]/div/div[1]/div/a').click()\n",
    "        for _ in tqdm_notebook(range(100), desc=s_code+'_'+year): # 조회 완료를 기다림\n",
    "            time.sleep(0.1)\n",
    "        # 다운 버튼 클릭\n",
    "        driver.find_element_by_xpath('//*[@id=\"frmSearch\"]/div/div[2]/div/a').click()\n",
    "        time.sleep(2)\n",
    "        os.rename(download_path+filename,download_path+'{}_{}.xls'.format(s_code,year))"
   ]
  },
  {
   "cell_type": "code",
   "execution_count": null,
   "metadata": {},
   "outputs": [],
   "source": [
    "driver.close()"
   ]
  },
  {
   "cell_type": "code",
   "execution_count": null,
   "metadata": {},
   "outputs": [],
   "source": []
  }
 ],
 "metadata": {
  "kernelspec": {
   "display_name": "Python 3",
   "language": "python",
   "name": "python3"
  },
  "language_info": {
   "codemirror_mode": {
    "name": "ipython",
    "version": 3
   },
   "file_extension": ".py",
   "mimetype": "text/x-python",
   "name": "python",
   "nbconvert_exporter": "python",
   "pygments_lexer": "ipython3",
   "version": "3.7.3"
  }
 },
 "nbformat": 4,
 "nbformat_minor": 2
}
