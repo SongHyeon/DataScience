{
 "cells": [
  {
   "cell_type": "code",
   "execution_count": 108,
   "metadata": {},
   "outputs": [],
   "source": [
    "import os\n",
    "from selenium import webdriver\n",
    "from tqdm import tqdm_notebook\n",
    "import pandas as pd\n",
    "import numpy as np\n",
    "import matplotlib.pyplot as plt\n",
    "import time\n",
    "import platform\n",
    "\n",
    "from matplotlib import font_manager, rc\n",
    "path = 'c:/windows/Fonts/malgun.ttf'\n",
    "\n",
    "font_name = font_manager.FontProperties(fname=path).get_name()\n",
    "rc('font', family=font_name)"
   ]
  },
  {
   "cell_type": "code",
   "execution_count": 3,
   "metadata": {},
   "outputs": [],
   "source": [
    "from glob import glob"
   ]
  },
  {
   "cell_type": "code",
   "execution_count": 6,
   "metadata": {
    "scrolled": true
   },
   "outputs": [],
   "source": [
    "file_list = glob('../data/지하수/*')"
   ]
  },
  {
   "cell_type": "code",
   "execution_count": 64,
   "metadata": {},
   "outputs": [
    {
     "data": {
      "text/plain": [
       "['../data/지하수\\\\경찰병원_2017.xls',\n",
       " '../data/지하수\\\\경찰병원_2018.xls',\n",
       " '../data/지하수\\\\마천국민임대주택단지_2017.xls',\n",
       " '../data/지하수\\\\마천국민임대주택단지_2018.xls',\n",
       " '../data/지하수\\\\문정래미안_2017.xls',\n",
       " '../data/지하수\\\\문정래미안_2018.xls',\n",
       " '../data/지하수\\\\부리근린공원_2017.xls',\n",
       " '../data/지하수\\\\부리근린공원_2018.xls',\n",
       " '../data/지하수\\\\송례중학교_2017.xls',\n",
       " '../data/지하수\\\\송례중학교_2018.xls',\n",
       " '../data/지하수\\\\송파참노인전문병원_2017.xls',\n",
       " '../data/지하수\\\\송파참노인전문병원_2018.xls',\n",
       " '../data/지하수\\\\수연빌딩_2017.xls',\n",
       " '../data/지하수\\\\수연빌딩_2018.xls',\n",
       " '../data/지하수\\\\아이코리아_2017.xls',\n",
       " '../data/지하수\\\\아이코리아_2018.xls',\n",
       " '../data/지하수\\\\연화근린공원_2017.xls',\n",
       " '../data/지하수\\\\연화근린공원_2018.xls',\n",
       " '../data/지하수\\\\영동일고_2017.xls',\n",
       " '../data/지하수\\\\영동일고_2018.xls',\n",
       " '../data/지하수\\\\올림픽파크텔_2017.xls',\n",
       " '../data/지하수\\\\올림픽파크텔_2018.xls',\n",
       " '../data/지하수\\\\잠실고등학교_2017.xls',\n",
       " '../data/지하수\\\\잠실고등학교_2018.xls',\n",
       " '../data/지하수\\\\전파관리소_2017.xls',\n",
       " '../data/지하수\\\\전파관리소_2018.xls',\n",
       " '../data/지하수\\\\창덕여고_2017.xls',\n",
       " '../data/지하수\\\\창덕여고_2018.xls',\n",
       " '../data/지하수\\\\태양근린공원_2017.xls',\n",
       " '../data/지하수\\\\태양근린공원_2018.xls']"
      ]
     },
     "execution_count": 64,
     "metadata": {},
     "output_type": "execute_result"
    }
   ],
   "source": [
    "file_list"
   ]
  },
  {
   "cell_type": "code",
   "execution_count": 10,
   "metadata": {},
   "outputs": [
    {
     "data": {
      "text/plain": [
       "'../data/지하수\\\\경찰병원_2017.xls'"
      ]
     },
     "execution_count": 10,
     "metadata": {},
     "output_type": "execute_result"
    }
   ],
   "source": [
    "file_list[0]"
   ]
  },
  {
   "cell_type": "code",
   "execution_count": 43,
   "metadata": {},
   "outputs": [],
   "source": [
    "df = pd.read_html(file_list[0], encoding='utf8')[0]"
   ]
  },
  {
   "cell_type": "code",
   "execution_count": 44,
   "metadata": {
    "scrolled": false
   },
   "outputs": [
    {
     "data": {
      "text/plain": [
       "Index(['관측일시', '수위(m)', '수온(℃)', '전기전도도(㎲/㎝)', '비고'], dtype='object')"
      ]
     },
     "execution_count": 44,
     "metadata": {},
     "output_type": "execute_result"
    }
   ],
   "source": [
    "df.columns"
   ]
  },
  {
   "cell_type": "code",
   "execution_count": 52,
   "metadata": {},
   "outputs": [
    {
     "data": {
      "text/plain": [
       "Index(['일시', '수위', '수온', '전기', '비고'], dtype='object')"
      ]
     },
     "execution_count": 52,
     "metadata": {},
     "output_type": "execute_result"
    }
   ],
   "source": [
    "df.columns = ['일시','수위','수온','전기','비고']\n",
    "df.columns"
   ]
  },
  {
   "cell_type": "code",
   "execution_count": 53,
   "metadata": {},
   "outputs": [
    {
     "data": {
      "text/plain": [
       "(6833, 5)"
      ]
     },
     "execution_count": 53,
     "metadata": {},
     "output_type": "execute_result"
    }
   ],
   "source": [
    "df.shape"
   ]
  },
  {
   "cell_type": "code",
   "execution_count": 54,
   "metadata": {},
   "outputs": [
    {
     "data": {
      "text/plain": [
       "일시       0\n",
       "수위       0\n",
       "수온       0\n",
       "전기       0\n",
       "비고    6833\n",
       "dtype: int64"
      ]
     },
     "execution_count": 54,
     "metadata": {},
     "output_type": "execute_result"
    }
   ],
   "source": [
    "df.isna().sum()"
   ]
  },
  {
   "cell_type": "code",
   "execution_count": 57,
   "metadata": {
    "scrolled": true
   },
   "outputs": [
    {
     "data": {
      "text/plain": [
       "'경찰병원'"
      ]
     },
     "execution_count": 57,
     "metadata": {},
     "output_type": "execute_result"
    }
   ],
   "source": [
    "location = file_list[0][12:-9]\n",
    "location"
   ]
  },
  {
   "cell_type": "code",
   "execution_count": 59,
   "metadata": {},
   "outputs": [],
   "source": [
    "df['지역'] = [location for _ in range(len(df))]"
   ]
  },
  {
   "cell_type": "code",
   "execution_count": 61,
   "metadata": {
    "scrolled": true
   },
   "outputs": [
    {
     "data": {
      "text/html": [
       "<div>\n",
       "<style scoped>\n",
       "    .dataframe tbody tr th:only-of-type {\n",
       "        vertical-align: middle;\n",
       "    }\n",
       "\n",
       "    .dataframe tbody tr th {\n",
       "        vertical-align: top;\n",
       "    }\n",
       "\n",
       "    .dataframe thead th {\n",
       "        text-align: right;\n",
       "    }\n",
       "</style>\n",
       "<table border=\"1\" class=\"dataframe\">\n",
       "  <thead>\n",
       "    <tr style=\"text-align: right;\">\n",
       "      <th></th>\n",
       "      <th>지역</th>\n",
       "      <th>일시</th>\n",
       "      <th>수위</th>\n",
       "    </tr>\n",
       "  </thead>\n",
       "  <tbody>\n",
       "    <tr>\n",
       "      <th>0</th>\n",
       "      <td>경찰병원</td>\n",
       "      <td>2017.12.31 23시</td>\n",
       "      <td>9.49</td>\n",
       "    </tr>\n",
       "    <tr>\n",
       "      <th>1</th>\n",
       "      <td>경찰병원</td>\n",
       "      <td>2017.12.31 22시</td>\n",
       "      <td>9.49</td>\n",
       "    </tr>\n",
       "    <tr>\n",
       "      <th>2</th>\n",
       "      <td>경찰병원</td>\n",
       "      <td>2017.12.31 21시</td>\n",
       "      <td>9.49</td>\n",
       "    </tr>\n",
       "    <tr>\n",
       "      <th>3</th>\n",
       "      <td>경찰병원</td>\n",
       "      <td>2017.12.31 20시</td>\n",
       "      <td>9.48</td>\n",
       "    </tr>\n",
       "    <tr>\n",
       "      <th>4</th>\n",
       "      <td>경찰병원</td>\n",
       "      <td>2017.12.31 19시</td>\n",
       "      <td>9.48</td>\n",
       "    </tr>\n",
       "  </tbody>\n",
       "</table>\n",
       "</div>"
      ],
      "text/plain": [
       "     지역              일시    수위\n",
       "0  경찰병원  2017.12.31 23시  9.49\n",
       "1  경찰병원  2017.12.31 22시  9.49\n",
       "2  경찰병원  2017.12.31 21시  9.49\n",
       "3  경찰병원  2017.12.31 20시  9.48\n",
       "4  경찰병원  2017.12.31 19시  9.48"
      ]
     },
     "execution_count": 61,
     "metadata": {},
     "output_type": "execute_result"
    }
   ],
   "source": [
    "df = pd.DataFrame({\n",
    "    '지역':df['지역'],\n",
    "    '일시':df['일시'],\n",
    "    '수위':df['수위'],\n",
    "                  })\n",
    "df.head()"
   ]
  },
  {
   "cell_type": "code",
   "execution_count": 93,
   "metadata": {},
   "outputs": [
    {
     "data": {
      "text/plain": [
       "'태양근린공원'"
      ]
     },
     "execution_count": 93,
     "metadata": {},
     "output_type": "execute_result"
    }
   ],
   "source": [
    "df[df.columns[0]][0]"
   ]
  },
  {
   "cell_type": "code",
   "execution_count": 94,
   "metadata": {
    "scrolled": false
   },
   "outputs": [
    {
     "data": {
      "application/vnd.jupyter.widget-view+json": {
       "model_id": "6ba2a6794b2c48a7a8b7346378ffbaf7",
       "version_major": 2,
       "version_minor": 0
      },
      "text/plain": [
       "HBox(children=(IntProgress(value=0, max=30), HTML(value='')))"
      ]
     },
     "metadata": {},
     "output_type": "display_data"
    },
    {
     "name": "stdout",
     "output_type": "stream",
     "text": [
      "\n",
      "(193168, 3)\n"
     ]
    },
    {
     "data": {
      "text/html": [
       "<div>\n",
       "<style scoped>\n",
       "    .dataframe tbody tr th:only-of-type {\n",
       "        vertical-align: middle;\n",
       "    }\n",
       "\n",
       "    .dataframe tbody tr th {\n",
       "        vertical-align: top;\n",
       "    }\n",
       "\n",
       "    .dataframe thead th {\n",
       "        text-align: right;\n",
       "    }\n",
       "</style>\n",
       "<table border=\"1\" class=\"dataframe\">\n",
       "  <thead>\n",
       "    <tr style=\"text-align: right;\">\n",
       "      <th></th>\n",
       "      <th>지역</th>\n",
       "      <th>일시</th>\n",
       "      <th>수위</th>\n",
       "    </tr>\n",
       "  </thead>\n",
       "  <tbody>\n",
       "    <tr>\n",
       "      <th>0</th>\n",
       "      <td>경찰병원</td>\n",
       "      <td>2017.12.31 23시</td>\n",
       "      <td>9.49</td>\n",
       "    </tr>\n",
       "    <tr>\n",
       "      <th>1</th>\n",
       "      <td>경찰병원</td>\n",
       "      <td>2017.12.31 22시</td>\n",
       "      <td>9.49</td>\n",
       "    </tr>\n",
       "    <tr>\n",
       "      <th>2</th>\n",
       "      <td>경찰병원</td>\n",
       "      <td>2017.12.31 21시</td>\n",
       "      <td>9.49</td>\n",
       "    </tr>\n",
       "    <tr>\n",
       "      <th>3</th>\n",
       "      <td>경찰병원</td>\n",
       "      <td>2017.12.31 20시</td>\n",
       "      <td>9.48</td>\n",
       "    </tr>\n",
       "    <tr>\n",
       "      <th>4</th>\n",
       "      <td>경찰병원</td>\n",
       "      <td>2017.12.31 19시</td>\n",
       "      <td>9.48</td>\n",
       "    </tr>\n",
       "  </tbody>\n",
       "</table>\n",
       "</div>"
      ],
      "text/plain": [
       "     지역              일시    수위\n",
       "0  경찰병원  2017.12.31 23시  9.49\n",
       "1  경찰병원  2017.12.31 22시  9.49\n",
       "2  경찰병원  2017.12.31 21시  9.49\n",
       "3  경찰병원  2017.12.31 20시  9.48\n",
       "4  경찰병원  2017.12.31 19시  9.48"
      ]
     },
     "execution_count": 94,
     "metadata": {},
     "output_type": "execute_result"
    }
   ],
   "source": [
    "#todo all data\n",
    "res = pd.DataFrame(columns=df.columns)\n",
    "\n",
    "for file in tqdm_notebook(file_list):\n",
    "    df = pd.read_html(file, encoding='utf8')[0]\n",
    "    if df[df.columns[0]][0]=='조회된 자료가 없습니다.':\n",
    "        continue\n",
    "    df.columns = ['일시','수위','수온','전기','비고']\n",
    "    location = file[12:-9]\n",
    "    df['지역'] = [location for _ in range(len(df))]\n",
    "    df = pd.DataFrame({\n",
    "    '지역':df['지역'],\n",
    "    '일시':df['일시'],\n",
    "    '수위':df['수위'],\n",
    "                  })\n",
    "    res = pd.concat([res,df])\n",
    "print(res.shape)\n",
    "res.head()"
   ]
  },
  {
   "cell_type": "code",
   "execution_count": 95,
   "metadata": {},
   "outputs": [],
   "source": [
    "res.to_csv('../data/지하수_통합데이터.csv',encoding='utf-8-sig', index=False)"
   ]
  },
  {
   "cell_type": "code",
   "execution_count": 96,
   "metadata": {},
   "outputs": [
    {
     "data": {
      "text/plain": [
       "array(['경찰병원', '마천국민임대주택단지', '문정래미안', '부리근린공원', '송례중학교', '송파참노인전문병원',\n",
       "       '수연빌딩', '아이코리아', '연화근린공원', '영동일고', '올림픽파크텔', '잠실고등학교', '태양근린공원'],\n",
       "      dtype=object)"
      ]
     },
     "execution_count": 96,
     "metadata": {},
     "output_type": "execute_result"
    }
   ],
   "source": [
    "res['지역'].unique()"
   ]
  },
  {
   "cell_type": "code",
   "execution_count": 97,
   "metadata": {},
   "outputs": [
    {
     "data": {
      "text/plain": [
       "13"
      ]
     },
     "execution_count": 97,
     "metadata": {},
     "output_type": "execute_result"
    }
   ],
   "source": [
    "len(res['지역'].unique())"
   ]
  },
  {
   "cell_type": "code",
   "execution_count": 98,
   "metadata": {},
   "outputs": [
    {
     "data": {
      "text/html": [
       "<div>\n",
       "<style scoped>\n",
       "    .dataframe tbody tr th:only-of-type {\n",
       "        vertical-align: middle;\n",
       "    }\n",
       "\n",
       "    .dataframe tbody tr th {\n",
       "        vertical-align: top;\n",
       "    }\n",
       "\n",
       "    .dataframe thead th {\n",
       "        text-align: right;\n",
       "    }\n",
       "</style>\n",
       "<table border=\"1\" class=\"dataframe\">\n",
       "  <thead>\n",
       "    <tr style=\"text-align: right;\">\n",
       "      <th></th>\n",
       "      <th>수위</th>\n",
       "    </tr>\n",
       "    <tr>\n",
       "      <th>지역</th>\n",
       "      <th></th>\n",
       "    </tr>\n",
       "  </thead>\n",
       "  <tbody>\n",
       "    <tr>\n",
       "      <th>경찰병원</th>\n",
       "      <td>9.951048</td>\n",
       "    </tr>\n",
       "    <tr>\n",
       "      <th>마천국민임대주택단지</th>\n",
       "      <td>9.409545</td>\n",
       "    </tr>\n",
       "    <tr>\n",
       "      <th>문정래미안</th>\n",
       "      <td>11.684816</td>\n",
       "    </tr>\n",
       "    <tr>\n",
       "      <th>부리근린공원</th>\n",
       "      <td>6.177035</td>\n",
       "    </tr>\n",
       "    <tr>\n",
       "      <th>송례중학교</th>\n",
       "      <td>10.478760</td>\n",
       "    </tr>\n",
       "    <tr>\n",
       "      <th>송파참노인전문병원</th>\n",
       "      <td>54.726090</td>\n",
       "    </tr>\n",
       "    <tr>\n",
       "      <th>수연빌딩</th>\n",
       "      <td>9.010427</td>\n",
       "    </tr>\n",
       "    <tr>\n",
       "      <th>아이코리아</th>\n",
       "      <td>6.678902</td>\n",
       "    </tr>\n",
       "    <tr>\n",
       "      <th>연화근린공원</th>\n",
       "      <td>12.832227</td>\n",
       "    </tr>\n",
       "    <tr>\n",
       "      <th>영동일고</th>\n",
       "      <td>9.972329</td>\n",
       "    </tr>\n",
       "    <tr>\n",
       "      <th>올림픽파크텔</th>\n",
       "      <td>7.529240</td>\n",
       "    </tr>\n",
       "    <tr>\n",
       "      <th>잠실고등학교</th>\n",
       "      <td>11.540534</td>\n",
       "    </tr>\n",
       "    <tr>\n",
       "      <th>태양근린공원</th>\n",
       "      <td>13.014024</td>\n",
       "    </tr>\n",
       "  </tbody>\n",
       "</table>\n",
       "</div>"
      ],
      "text/plain": [
       "                   수위\n",
       "지역                   \n",
       "경찰병원         9.951048\n",
       "마천국민임대주택단지   9.409545\n",
       "문정래미안       11.684816\n",
       "부리근린공원       6.177035\n",
       "송례중학교       10.478760\n",
       "송파참노인전문병원   54.726090\n",
       "수연빌딩         9.010427\n",
       "아이코리아        6.678902\n",
       "연화근린공원      12.832227\n",
       "영동일고         9.972329\n",
       "올림픽파크텔       7.529240\n",
       "잠실고등학교      11.540534\n",
       "태양근린공원      13.014024"
      ]
     },
     "execution_count": 98,
     "metadata": {},
     "output_type": "execute_result"
    }
   ],
   "source": [
    "res_unique = pd.pivot_table(res, index=['지역'], aggfunc=np.mean)\n",
    "res_unique"
   ]
  },
  {
   "cell_type": "code",
   "execution_count": 124,
   "metadata": {},
   "outputs": [
    {
     "data": {
      "text/plain": [
       "<matplotlib.axes._subplots.AxesSubplot at 0x276a320d0f0>"
      ]
     },
     "execution_count": 124,
     "metadata": {},
     "output_type": "execute_result"
    },
    {
     "data": {
      "image/png": "[encoded data removed]",
      "text/plain": [
       "<Figure size 432x288 with 1 Axes>"
      ]
     },
     "metadata": {
      "needs_background": "light"
     },
     "output_type": "display_data"
    }
   ],
   "source": [
    "df = res[res['지역']==res['지역'].unique()[0]]\n",
    "df.boxplot()"
   ]
  },
  {
   "cell_type": "code",
   "execution_count": 137,
   "metadata": {},
   "outputs": [
    {
     "data": {
      "text/plain": [
       "<matplotlib.collections.PathCollection at 0x276a454b8d0>"
      ]
     },
     "execution_count": 137,
     "metadata": {},
     "output_type": "execute_result"
    },
    {
     "data": {
      "image/png": "[encoded data removed]",
      "text/plain": [
       "<Figure size 432x288 with 1 Axes>"
      ]
     },
     "metadata": {
      "needs_background": "light"
     },
     "output_type": "display_data"
    }
   ],
   "source": [
    "plt.scatter([0 for _ in range(len(df))],df.수위,s=1)"
   ]
  },
  {
   "cell_type": "code",
   "execution_count": 145,
   "metadata": {},
   "outputs": [
    {
     "data": {
      "image/png": "[encoded data removed]",
      "text/plain": [
       "<Figure size 144x576 with 1 Axes>"
      ]
     },
     "metadata": {
      "needs_background": "light"
     },
     "output_type": "display_data"
    },
    {
     "data": {
      "image/png": "[encoded data removed]",
      "text/plain": [
       "<Figure size 144x576 with 1 Axes>"
      ]
     },
     "metadata": {
      "needs_background": "light"
     },
     "output_type": "display_data"
    },
    {
     "name": "stderr",
     "output_type": "stream",
     "text": [
      "C:\\ProgramData\\Anaconda3\\lib\\site-packages\\numpy\\lib\\function_base.py:3826: RuntimeWarning: Invalid value encountered in percentile\n",
      "  interpolation=interpolation)\n",
      "C:\\ProgramData\\Anaconda3\\lib\\site-packages\\matplotlib\\cbook\\__init__.py:1246: RuntimeWarning: invalid value encountered in less_equal\n",
      "  wiskhi = np.compress(x <= hival, x)\n",
      "C:\\ProgramData\\Anaconda3\\lib\\site-packages\\matplotlib\\cbook\\__init__.py:1253: RuntimeWarning: invalid value encountered in greater_equal\n",
      "  wisklo = np.compress(x >= loval, x)\n",
      "C:\\ProgramData\\Anaconda3\\lib\\site-packages\\matplotlib\\cbook\\__init__.py:1261: RuntimeWarning: invalid value encountered in less\n",
      "  np.compress(x < stats['whislo'], x),\n",
      "C:\\ProgramData\\Anaconda3\\lib\\site-packages\\matplotlib\\cbook\\__init__.py:1262: RuntimeWarning: invalid value encountered in greater\n",
      "  np.compress(x > stats['whishi'], x)\n"
     ]
    },
    {
     "data": {
      "image/png": "[encoded data removed]",
      "text/plain": [
       "<Figure size 144x576 with 1 Axes>"
      ]
     },
     "metadata": {
      "needs_background": "light"
     },
     "output_type": "display_data"
    },
    {
     "data": {
      "image/png": "[encoded data removed]",
      "text/plain": [
       "<Figure size 144x576 with 1 Axes>"
      ]
     },
     "metadata": {
      "needs_background": "light"
     },
     "output_type": "display_data"
    },
    {
     "data": {
      "image/png": "[encoded data removed]",
      "text/plain": [
       "<Figure size 144x576 with 1 Axes>"
      ]
     },
     "metadata": {
      "needs_background": "light"
     },
     "output_type": "display_data"
    },
    {
     "data": {
      "image/png": "[encoded data removed]",
      "text/plain": [
       "<Figure size 144x576 with 1 Axes>"
      ]
     },
     "metadata": {
      "needs_background": "light"
     },
     "output_type": "display_data"
    },
    {
     "data": {
      "image/png": "[encoded data removed]",
      "text/plain": [
       "<Figure size 144x576 with 1 Axes>"
      ]
     },
     "metadata": {
      "needs_background": "light"
     },
     "output_type": "display_data"
    },
    {
     "data": {
      "image/png": "[encoded data removed]",
      "text/plain": [
       "<Figure size 144x576 with 1 Axes>"
      ]
     },
     "metadata": {
      "needs_background": "light"
     },
     "output_type": "display_data"
    },
    {
     "data": {
      "image/png": "[encoded data removed]",
      "text/plain": [
       "<Figure size 144x576 with 1 Axes>"
      ]
     },
     "metadata": {
      "needs_background": "light"
     },
     "output_type": "display_data"
    },
    {
     "data": {
      "image/png": "[encoded data removed]",
      "text/plain": [
       "<Figure size 144x576 with 1 Axes>"
      ]
     },
     "metadata": {
      "needs_background": "light"
     },
     "output_type": "display_data"
    },
    {
     "data": {
      "image/png": "[encoded data removed]",
      "text/plain": [
       "<Figure size 144x576 with 1 Axes>"
      ]
     },
     "metadata": {
      "needs_background": "light"
     },
     "output_type": "display_data"
    },
    {
     "data": {
      "image/png": "[encoded data removed]",
      "text/plain": [
       "<Figure size 144x576 with 1 Axes>"
      ]
     },
     "metadata": {
      "needs_background": "light"
     },
     "output_type": "display_data"
    },
    {
     "data": {
      "image/png": "[encoded data removed]",
      "text/plain": [
       "<Figure size 144x576 with 1 Axes>"
      ]
     },
     "metadata": {
      "needs_background": "light"
     },
     "output_type": "display_data"
    }
   ],
   "source": [
    "for location in res['지역'].unique():\n",
    "    df = res[res['지역']==location]\n",
    "    plt.figure(figsize=(2,8))\n",
    "    plt.boxplot(df['수위'],)\n",
    "    plt.show()"
   ]
  },
  {
   "cell_type": "code",
   "execution_count": null,
   "metadata": {},
   "outputs": [],
   "source": []
  }
 ],
 "metadata": {
  "kernelspec": {
   "display_name": "Python 3",
   "language": "python",
   "name": "python3"
  },
  "language_info": {
   "codemirror_mode": {
    "name": "ipython",
    "version": 3
   },
   "file_extension": ".py",
   "mimetype": "text/x-python",
   "name": "python",
   "nbconvert_exporter": "python",
   "pygments_lexer": "ipython3",
   "version": "3.7.3"
  }
 },
 "nbformat": 4,
 "nbformat_minor": 2
}
